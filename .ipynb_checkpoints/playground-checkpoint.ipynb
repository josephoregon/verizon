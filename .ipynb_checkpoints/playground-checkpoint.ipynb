{
 "cells": [
  {
   "cell_type": "code",
   "execution_count": 1,
   "metadata": {
    "ExecuteTime": {
     "end_time": "2021-04-12T00:50:47.535251Z",
     "start_time": "2021-04-12T00:50:46.190030Z"
    }
   },
   "outputs": [],
   "source": [
    "import numpy as np\n",
    "import pandas as pd\n",
    "import streamlit as st\n",
    "\n",
    "from plotly import tools\n",
    "import plotly.offline as py\n",
    "import plotly.express as px\n",
    "import plotly.graph_objects as go"
   ]
  },
  {
   "cell_type": "code",
   "execution_count": 3,
   "metadata": {
    "ExecuteTime": {
     "end_time": "2021-04-12T00:50:58.945208Z",
     "start_time": "2021-04-12T00:50:58.929893Z"
    }
   },
   "outputs": [
    {
     "name": "stderr",
     "output_type": "stream",
     "text": [
      "<ipython-input-3-6125b93f5baf>:7: FutureWarning:\n",
      "\n",
      "The default value of regex will change from True to False in a future version. In addition, single character regular expressions will*not* be treated as literal strings when regex=True.\n",
      "\n",
      "<ipython-input-3-6125b93f5baf>:8: FutureWarning:\n",
      "\n",
      "The default value of regex will change from True to False in a future version. In addition, single character regular expressions will*not* be treated as literal strings when regex=True.\n",
      "\n",
      "<ipython-input-3-6125b93f5baf>:9: FutureWarning:\n",
      "\n",
      "The default value of regex will change from True to False in a future version. In addition, single character regular expressions will*not* be treated as literal strings when regex=True.\n",
      "\n"
     ]
    }
   ],
   "source": [
    "# import billing data\n",
    "df = pd.read_csv('VERIZON_BILL_CSV.csv')\n",
    "\n",
    "# clean data and make minor adjustments\n",
    "\n",
    "df['Charge Amount'] = df['Charge Amount'].str.replace('\\t', '')\n",
    "df['Charge Amount'] = df['Charge Amount'].str.replace('$', '')\n",
    "df['Charge Amount'] = df['Charge Amount'].str.replace('(', '-')\n",
    "df['Charge Amount'] = df['Charge Amount'].str.replace(')', '')\n",
    "\n",
    "# convert data type for mathmatical functionalities \n",
    "df['Charge Amount'] = pd.to_numeric(df['Charge Amount'])\n",
    "\n",
    "# remove whitespace\n",
    "df = df.apply(lambda x: x.str.strip() if x.dtype == \"object\" else x)"
   ]
  },
  {
   "cell_type": "code",
   "execution_count": null,
   "metadata": {},
   "outputs": [],
   "source": []
  },
  {
   "cell_type": "code",
   "execution_count": null,
   "metadata": {},
   "outputs": [],
   "source": []
  },
  {
   "cell_type": "code",
   "execution_count": null,
   "metadata": {},
   "outputs": [],
   "source": []
  },
  {
   "cell_type": "code",
   "execution_count": null,
   "metadata": {},
   "outputs": [],
   "source": []
  },
  {
   "cell_type": "code",
   "execution_count": null,
   "metadata": {},
   "outputs": [],
   "source": []
  },
  {
   "cell_type": "markdown",
   "metadata": {},
   "source": [
    "- What do those charges include? (Activation, line of service and charge for new phone?)\n",
    "- Did Verizon figure out if the monthly charge is $30 rather than $70/line?\n",
    "- Are they going to add the discount per line for autopay?\n",
    "- If Katie’s activation fee was charged twice, will they refund the difference?"
   ]
  },
  {
   "cell_type": "code",
   "execution_count": null,
   "metadata": {},
   "outputs": [],
   "source": [
    "I will add the charge details later tonight. It looks like the monthly charges were "
   ]
  },
  {
   "cell_type": "code",
   "execution_count": 15,
   "metadata": {},
   "outputs": [],
   "source": [
    "d"
   ]
  },
  {
   "cell_type": "code",
   "execution_count": null,
   "metadata": {},
   "outputs": [],
   "source": []
  },
  {
   "cell_type": "code",
   "execution_count": null,
   "metadata": {},
   "outputs": [],
   "source": []
  },
  {
   "cell_type": "code",
   "execution_count": 4,
   "metadata": {
    "ExecuteTime": {
     "end_time": "2021-04-12T00:51:02.287800Z",
     "start_time": "2021-04-12T00:51:02.273039Z"
    }
   },
   "outputs": [
    {
     "data": {
      "text/plain": [
       "Person                  Katie WilliamsJenny DeanDebra EckhardtLindsay ...\n",
       "Device                  IPHONE 11 PROIPHONE 12 PROIPHONE 12 PRO MAXIPH...\n",
       "Charge Amount                                                       200.0\n",
       "Charge Description      Activation feeActivation feeActivation feeActi...\n",
       "Charge Type             One-time charges and creditsOne-time charges a...\n",
       "Billing Period Start    Nov 29, 2020Nov 29, 2020Nov 29, 2020Nov 29, 20...\n",
       "Billing Period End      Dec 28, 2020Dec 28, 2020Dec 28, 2020Dec 28, 20...\n",
       "dtype: object"
      ]
     },
     "execution_count": 4,
     "metadata": {},
     "output_type": "execute_result"
    }
   ],
   "source": [
    "df[df['Charge Description'] == 'Activation fee'].sum()"
   ]
  },
  {
   "cell_type": "code",
   "execution_count": null,
   "metadata": {},
   "outputs": [],
   "source": [
    "'$60'"
   ]
  },
  {
   "cell_type": "code",
   "execution_count": 5,
   "metadata": {
    "ExecuteTime": {
     "end_time": "2021-04-12T00:51:05.247314Z",
     "start_time": "2021-04-12T00:51:05.243124Z"
    }
   },
   "outputs": [
    {
     "data": {
      "text/plain": [
       "423.7"
      ]
     },
     "execution_count": 5,
     "metadata": {},
     "output_type": "execute_result"
    }
   ],
   "source": [
    "200.00 + 150 + 73.70"
   ]
  },
  {
   "cell_type": "code",
   "execution_count": null,
   "metadata": {},
   "outputs": [],
   "source": []
  },
  {
   "cell_type": "code",
   "execution_count": 6,
   "metadata": {
    "ExecuteTime": {
     "end_time": "2021-04-12T00:51:06.709463Z",
     "start_time": "2021-04-12T00:51:06.687746Z"
    }
   },
   "outputs": [
    {
     "data": {
      "text/html": [
       "<div>\n",
       "<style scoped>\n",
       "    .dataframe tbody tr th:only-of-type {\n",
       "        vertical-align: middle;\n",
       "    }\n",
       "\n",
       "    .dataframe tbody tr th {\n",
       "        vertical-align: top;\n",
       "    }\n",
       "\n",
       "    .dataframe thead th {\n",
       "        text-align: right;\n",
       "    }\n",
       "</style>\n",
       "<table border=\"1\" class=\"dataframe\">\n",
       "  <thead>\n",
       "    <tr style=\"text-align: right;\">\n",
       "      <th></th>\n",
       "      <th>Person</th>\n",
       "      <th>Device</th>\n",
       "      <th>Charge Amount</th>\n",
       "      <th>Charge Description</th>\n",
       "      <th>Charge Type</th>\n",
       "      <th>Billing Period Start</th>\n",
       "      <th>Billing Period End</th>\n",
       "    </tr>\n",
       "  </thead>\n",
       "  <tbody>\n",
       "    <tr>\n",
       "      <th>35</th>\n",
       "      <td>Jenny Dean</td>\n",
       "      <td>IPHONE 12 PRO</td>\n",
       "      <td>33.42</td>\n",
       "      <td>Device payment 1 of 30 ($999.99/30mo)</td>\n",
       "      <td>Monthly charges and credits</td>\n",
       "      <td>Nov 29, 2020</td>\n",
       "      <td>Dec 28, 2020</td>\n",
       "    </tr>\n",
       "    <tr>\n",
       "      <th>47</th>\n",
       "      <td>Debra Eckhardt</td>\n",
       "      <td>IPHONE 12 PRO MAX</td>\n",
       "      <td>36.85</td>\n",
       "      <td>Device payment 1 of 30 ($1,099.99/30mo)</td>\n",
       "      <td>Monthly charges and credits</td>\n",
       "      <td>Nov 29, 2020</td>\n",
       "      <td>Dec 28, 2020</td>\n",
       "    </tr>\n",
       "    <tr>\n",
       "      <th>58</th>\n",
       "      <td>Lindsay Rosas</td>\n",
       "      <td>IPHONE 12 PRO</td>\n",
       "      <td>33.42</td>\n",
       "      <td>Device payment 1 of 30 ($999.99/30mo)</td>\n",
       "      <td>Monthly charges and credits</td>\n",
       "      <td>Nov 29, 2020</td>\n",
       "      <td>Dec 28, 2020</td>\n",
       "    </tr>\n",
       "    <tr>\n",
       "      <th>79</th>\n",
       "      <td>Temporary Phone</td>\n",
       "      <td>IPHONE 11 PRO</td>\n",
       "      <td>36.85</td>\n",
       "      <td>Device payment 1 of 30 ($1,099.99/30mo)</td>\n",
       "      <td>Monthly charges and credits</td>\n",
       "      <td>Nov 29, 2020</td>\n",
       "      <td>Dec 28, 2020</td>\n",
       "    </tr>\n",
       "  </tbody>\n",
       "</table>\n",
       "</div>"
      ],
      "text/plain": [
       "             Person             Device  Charge Amount  \\\n",
       "35       Jenny Dean      IPHONE 12 PRO          33.42   \n",
       "47   Debra Eckhardt  IPHONE 12 PRO MAX          36.85   \n",
       "58    Lindsay Rosas      IPHONE 12 PRO          33.42   \n",
       "79  Temporary Phone      IPHONE 11 PRO          36.85   \n",
       "\n",
       "                         Charge Description                  Charge Type  \\\n",
       "35    Device payment 1 of 30 ($999.99/30mo)  Monthly charges and credits   \n",
       "47  Device payment 1 of 30 ($1,099.99/30mo)  Monthly charges and credits   \n",
       "58    Device payment 1 of 30 ($999.99/30mo)  Monthly charges and credits   \n",
       "79  Device payment 1 of 30 ($1,099.99/30mo)  Monthly charges and credits   \n",
       "\n",
       "   Billing Period Start Billing Period End  \n",
       "35         Nov 29, 2020       Dec 28, 2020  \n",
       "47         Nov 29, 2020       Dec 28, 2020  \n",
       "58         Nov 29, 2020       Dec 28, 2020  \n",
       "79         Nov 29, 2020       Dec 28, 2020  "
      ]
     },
     "execution_count": 6,
     "metadata": {},
     "output_type": "execute_result"
    }
   ],
   "source": [
    "df[df['Charge Description'].str.contains('Device payment')]"
   ]
  },
  {
   "cell_type": "code",
   "execution_count": null,
   "metadata": {},
   "outputs": [],
   "source": []
  },
  {
   "cell_type": "code",
   "execution_count": 7,
   "metadata": {
    "ExecuteTime": {
     "end_time": "2021-04-12T00:51:09.184844Z",
     "start_time": "2021-04-12T00:51:09.167719Z"
    }
   },
   "outputs": [
    {
     "data": {
      "text/plain": [
       "Charge Type                   Charge Description                             \n",
       "One-time charges and credits  Activation fee                                     200.00\n",
       "Monthly charges and credits   Start Unlimited                                    150.00\n",
       "                              Device payment 1 of 30 ($1,099.99/30mo)             73.70\n",
       "                              Device payment 1 of 30 ($999.99/30mo)               66.84\n",
       "One-time charges and credits  Start unlimited - partial-month                     65.00\n",
       "Monthly charges and credits   Get More Unlimited 5G UW                            50.00\n",
       "                              Unlimited Plan                                      30.00\n",
       "One-time charges and credits  Get more unlimited 5G UW - partial-month            25.00\n",
       "Surcharges                    Administrative Charge                               23.46\n",
       "                              Fed Universal Service Charge                        20.44\n",
       "Taxes and gov fees            KS State Sls Tax-Telco                              18.14\n",
       "Surcharges                    KS Universal Service Fund                           14.64\n",
       "Taxes and gov fees            KS E-911 Fee                                        10.80\n",
       "Add-ons                       5G Ultra Wideband Access                            10.00\n",
       "One-time charges and credits  5G Ultra Wideband Access - partial-month             5.00\n",
       "Taxes and gov fees            Sedgwick Cnty Sls Tax-Telco                          2.81\n",
       "Surcharges                    Regulatory Charge                                    2.54\n",
       "Taxes and gov fees            State Tax                                            0.84\n",
       "                              Local Tax                                            0.13\n",
       "One-time charges and credits  5G Ultra Wideband Credit                            -5.00\n",
       "Add-ons                       5G Ultra Wideband Credit                           -10.00\n",
       "Monthly charges and credits   50% Access Fee Discount From 316.469.1082          -10.00\n",
       "One-time charges and credits  Get more unlimited 5G UW - partial-month refund    -45.00\n",
       "Monthly charges and credits   Device Promo - Get 1 of 30                         -66.86\n",
       "Name: Charge Amount, dtype: float64"
      ]
     },
     "execution_count": 7,
     "metadata": {},
     "output_type": "execute_result"
    }
   ],
   "source": [
    "df.groupby(['Charge Type', 'Charge Description'])['Charge Amount'].sum().sort_values(ascending=False)"
   ]
  },
  {
   "cell_type": "code",
   "execution_count": null,
   "metadata": {},
   "outputs": [],
   "source": []
  },
  {
   "cell_type": "code",
   "execution_count": null,
   "metadata": {},
   "outputs": [],
   "source": []
  },
  {
   "cell_type": "code",
   "execution_count": 8,
   "metadata": {
    "ExecuteTime": {
     "end_time": "2021-04-12T00:51:11.368502Z",
     "start_time": "2021-04-12T00:51:11.364545Z"
    }
   },
   "outputs": [],
   "source": [
    "monthly_charges = df[df['Charge Type'].str.contains('Monthly charges')].reset_index(drop=True)"
   ]
  },
  {
   "cell_type": "code",
   "execution_count": 9,
   "metadata": {
    "ExecuteTime": {
     "end_time": "2021-04-12T00:51:11.641687Z",
     "start_time": "2021-04-12T00:51:11.635130Z"
    }
   },
   "outputs": [
    {
     "data": {
      "text/plain": [
       "Person\n",
       "Debra Eckhardt     66.85\n",
       "Jenny Dean         29.99\n",
       "Joseph Rosas       70.00\n",
       "Lindsay Rosas      29.99\n",
       "Tanner Dean        30.00\n",
       "Temporary Phone    66.85\n",
       "Name: Charge Amount, dtype: float64"
      ]
     },
     "execution_count": 9,
     "metadata": {},
     "output_type": "execute_result"
    }
   ],
   "source": [
    "monthly_charges.groupby('Person')['Charge Amount'].sum()"
   ]
  },
  {
   "cell_type": "code",
   "execution_count": 10,
   "metadata": {
    "ExecuteTime": {
     "end_time": "2021-04-12T00:51:13.052932Z",
     "start_time": "2021-04-12T00:51:13.039705Z"
    }
   },
   "outputs": [
    {
     "data": {
      "text/html": [
       "<div>\n",
       "<style scoped>\n",
       "    .dataframe tbody tr th:only-of-type {\n",
       "        vertical-align: middle;\n",
       "    }\n",
       "\n",
       "    .dataframe tbody tr th {\n",
       "        vertical-align: top;\n",
       "    }\n",
       "\n",
       "    .dataframe thead th {\n",
       "        text-align: right;\n",
       "    }\n",
       "</style>\n",
       "<table border=\"1\" class=\"dataframe\">\n",
       "  <thead>\n",
       "    <tr style=\"text-align: right;\">\n",
       "      <th></th>\n",
       "      <th>Person</th>\n",
       "      <th>Device</th>\n",
       "      <th>Charge Amount</th>\n",
       "      <th>Charge Description</th>\n",
       "      <th>Charge Type</th>\n",
       "      <th>Billing Period Start</th>\n",
       "      <th>Billing Period End</th>\n",
       "    </tr>\n",
       "  </thead>\n",
       "  <tbody>\n",
       "    <tr>\n",
       "      <th>0</th>\n",
       "      <td>Katie Williams</td>\n",
       "      <td>IPHONE 11 PRO</td>\n",
       "      <td>40.0</td>\n",
       "      <td>Activation fee</td>\n",
       "      <td>One-time charges and credits</td>\n",
       "      <td>Nov 29, 2020</td>\n",
       "      <td>Dec 28, 2020</td>\n",
       "    </tr>\n",
       "    <tr>\n",
       "      <th>32</th>\n",
       "      <td>Jenny Dean</td>\n",
       "      <td>IPHONE 12 PRO</td>\n",
       "      <td>40.0</td>\n",
       "      <td>Activation fee</td>\n",
       "      <td>One-time charges and credits</td>\n",
       "      <td>Nov 29, 2020</td>\n",
       "      <td>Dec 28, 2020</td>\n",
       "    </tr>\n",
       "    <tr>\n",
       "      <th>44</th>\n",
       "      <td>Debra Eckhardt</td>\n",
       "      <td>IPHONE 12 PRO MAX</td>\n",
       "      <td>40.0</td>\n",
       "      <td>Activation fee</td>\n",
       "      <td>One-time charges and credits</td>\n",
       "      <td>Nov 29, 2020</td>\n",
       "      <td>Dec 28, 2020</td>\n",
       "    </tr>\n",
       "    <tr>\n",
       "      <th>55</th>\n",
       "      <td>Lindsay Rosas</td>\n",
       "      <td>IPHONE 12 PRO</td>\n",
       "      <td>40.0</td>\n",
       "      <td>Activation fee</td>\n",
       "      <td>One-time charges and credits</td>\n",
       "      <td>Nov 29, 2020</td>\n",
       "      <td>Dec 28, 2020</td>\n",
       "    </tr>\n",
       "    <tr>\n",
       "      <th>67</th>\n",
       "      <td>Tanner Dean</td>\n",
       "      <td>IPHONE X</td>\n",
       "      <td>40.0</td>\n",
       "      <td>Activation fee</td>\n",
       "      <td>One-time charges and credits</td>\n",
       "      <td>Nov 29, 2020</td>\n",
       "      <td>Dec 28, 2020</td>\n",
       "    </tr>\n",
       "  </tbody>\n",
       "</table>\n",
       "</div>"
      ],
      "text/plain": [
       "            Person             Device  Charge Amount Charge Description  \\\n",
       "0   Katie Williams      IPHONE 11 PRO           40.0     Activation fee   \n",
       "32      Jenny Dean      IPHONE 12 PRO           40.0     Activation fee   \n",
       "44  Debra Eckhardt  IPHONE 12 PRO MAX           40.0     Activation fee   \n",
       "55   Lindsay Rosas      IPHONE 12 PRO           40.0     Activation fee   \n",
       "67     Tanner Dean           IPHONE X           40.0     Activation fee   \n",
       "\n",
       "                     Charge Type Billing Period Start Billing Period End  \n",
       "0   One-time charges and credits         Nov 29, 2020       Dec 28, 2020  \n",
       "32  One-time charges and credits         Nov 29, 2020       Dec 28, 2020  \n",
       "44  One-time charges and credits         Nov 29, 2020       Dec 28, 2020  \n",
       "55  One-time charges and credits         Nov 29, 2020       Dec 28, 2020  \n",
       "67  One-time charges and credits         Nov 29, 2020       Dec 28, 2020  "
      ]
     },
     "execution_count": 10,
     "metadata": {},
     "output_type": "execute_result"
    }
   ],
   "source": [
    "df[df['Charge Description'] == 'Activation fee']"
   ]
  },
  {
   "cell_type": "code",
   "execution_count": 11,
   "metadata": {
    "ExecuteTime": {
     "end_time": "2021-04-12T00:51:17.213970Z",
     "start_time": "2021-04-12T00:51:17.206925Z"
    }
   },
   "outputs": [
    {
     "data": {
      "text/plain": [
       "Charge Description\n",
       "50% Access Fee Discount From 316.469.1082          -10.00\n",
       "5G Ultra Wideband Access                            10.00\n",
       "5G Ultra Wideband Access - partial-month             5.00\n",
       "5G Ultra Wideband Credit                           -15.00\n",
       "Activation fee                                     200.00\n",
       "Administrative Charge                               23.46\n",
       "Device Promo - Get 1 of 30                         -66.86\n",
       "Device payment 1 of 30 ($1,099.99/30mo)             73.70\n",
       "Device payment 1 of 30 ($999.99/30mo)               66.84\n",
       "Fed Universal Service Charge                        20.44\n",
       "Get More Unlimited 5G UW                            50.00\n",
       "Get more unlimited 5G UW - partial-month            25.00\n",
       "Get more unlimited 5G UW - partial-month refund    -45.00\n",
       "KS E-911 Fee                                        10.80\n",
       "KS State Sls Tax-Telco                              18.14\n",
       "KS Universal Service Fund                           14.64\n",
       "Local Tax                                            0.13\n",
       "Regulatory Charge                                    2.54\n",
       "Sedgwick Cnty Sls Tax-Telco                          2.81\n",
       "Start Unlimited                                    150.00\n",
       "Start unlimited - partial-month                     65.00\n",
       "State Tax                                            0.84\n",
       "Unlimited Plan                                      30.00\n",
       "Name: Charge Amount, dtype: float64"
      ]
     },
     "execution_count": 11,
     "metadata": {},
     "output_type": "execute_result"
    }
   ],
   "source": [
    "df.groupby('Charge Description')['Charge Amount'].sum()"
   ]
  },
  {
   "cell_type": "code",
   "execution_count": 37,
   "metadata": {},
   "outputs": [
    {
     "data": {
      "text/plain": [
       "<streamlit.delta_generator.DeltaGenerator at 0x7fa5e72e43a0>"
      ]
     },
     "execution_count": 37,
     "metadata": {},
     "output_type": "execute_result"
    }
   ],
   "source": [
    "    charge_by_user = df[df[\"Person\"] != \"General Account\"]\n",
    "\n",
    "    charges_per_user = (\n",
    "        charge_by_user.groupby(\"Person\")[\"Charge Amount\"]\n",
    "        .sum()\n",
    "        .sort_values()\n",
    "        .reset_index(name=\"Charge\")\n",
    "    )\n",
    "\n",
    "    st.dataframe(charges_per_user)"
   ]
  },
  {
   "cell_type": "code",
   "execution_count": null,
   "metadata": {},
   "outputs": [],
   "source": [
    "138.96+102.10+102.10"
   ]
  },
  {
   "cell_type": "code",
   "execution_count": 12,
   "metadata": {
    "ExecuteTime": {
     "end_time": "2021-04-12T00:51:23.556719Z",
     "start_time": "2021-04-12T00:51:23.325644Z"
    },
    "scrolled": true
   },
   "outputs": [
    {
     "ename": "NameError",
     "evalue": "name 'charges_per_user' is not defined",
     "output_type": "error",
     "traceback": [
      "\u001b[0;31m---------------------------------------------------------------------------\u001b[0m",
      "\u001b[0;31mNameError\u001b[0m                                 Traceback (most recent call last)",
      "\u001b[0;32m<ipython-input-12-a942efca0915>\u001b[0m in \u001b[0;36m<module>\u001b[0;34m\u001b[0m\n\u001b[0;32m----> 1\u001b[0;31m \u001b[0mcharges_per_user\u001b[0m\u001b[0;34m[\u001b[0m\u001b[0;34m'Charge'\u001b[0m\u001b[0;34m]\u001b[0m\u001b[0;34m.\u001b[0m\u001b[0msum\u001b[0m\u001b[0;34m(\u001b[0m\u001b[0;34m)\u001b[0m\u001b[0;34m\u001b[0m\u001b[0;34m\u001b[0m\u001b[0m\n\u001b[0m",
      "\u001b[0;31mNameError\u001b[0m: name 'charges_per_user' is not defined"
     ]
    }
   ],
   "source": [
    "charges_per_user['Charge'].sum()"
   ]
  },
  {
   "cell_type": "code",
   "execution_count": null,
   "metadata": {},
   "outputs": [],
   "source": [
    "    st.set_page_config(\n",
    "        page_title=\"Ex-stream-ly Cool App\",\n",
    "        page_icon=\"🧊\",\n",
    "        layout=\"wide\",\n",
    "        initial_sidebar_state=\"expanded\",\n",
    "    )\n"
   ]
  },
  {
   "cell_type": "code",
   "execution_count": null,
   "metadata": {},
   "outputs": [],
   "source": []
  },
  {
   "cell_type": "code",
   "execution_count": null,
   "metadata": {},
   "outputs": [],
   "source": []
  },
  {
   "cell_type": "code",
   "execution_count": 13,
   "metadata": {
    "ExecuteTime": {
     "end_time": "2021-04-12T00:51:25.818322Z",
     "start_time": "2021-04-12T00:51:25.809269Z"
    },
    "scrolled": true
   },
   "outputs": [
    {
     "data": {
      "text/plain": [
       "Person           Charge Type                 \n",
       "Debra Eckhardt   Monthly charges and credits     66.85\n",
       "                 One-time charges and credits    55.00\n",
       "                 Surcharges                      11.22\n",
       "                 Taxes and gov fees               5.89\n",
       "General Account  Taxes and gov fees               0.97\n",
       "Jenny Dean       Monthly charges and credits     29.99\n",
       "                 One-time charges and credits    55.00\n",
       "                 Surcharges                      11.22\n",
       "                 Taxes and gov fees               5.89\n",
       "Joseph Rosas     Add-ons                          0.00\n",
       "                 Monthly charges and credits     70.00\n",
       "                 One-time charges and credits   -20.00\n",
       "                 Surcharges                       5.07\n",
       "                 Taxes and gov fees               2.35\n",
       "Katie Williams   One-time charges and credits    45.00\n",
       "                 Surcharges                       6.16\n",
       "                 Taxes and gov fees               3.50\n",
       "Lindsay Rosas    Monthly charges and credits     29.99\n",
       "                 One-time charges and credits    55.00\n",
       "                 Surcharges                      11.22\n",
       "                 Taxes and gov fees               5.89\n",
       "Tanner Dean      Monthly charges and credits     30.00\n",
       "                 One-time charges and credits    45.00\n",
       "                 Surcharges                      11.13\n",
       "                 Taxes and gov fees               5.83\n",
       "Temporary Phone  Monthly charges and credits     66.85\n",
       "                 One-time charges and credits    10.00\n",
       "                 Surcharges                       5.06\n",
       "                 Taxes and gov fees               2.40\n",
       "Name: Charge Amount, dtype: float64"
      ]
     },
     "execution_count": 13,
     "metadata": {},
     "output_type": "execute_result"
    }
   ],
   "source": [
    "df.groupby(['Person', 'Charge Type'])['Charge Amount'].sum()"
   ]
  },
  {
   "cell_type": "code",
   "execution_count": null,
   "metadata": {},
   "outputs": [],
   "source": []
  },
  {
   "cell_type": "code",
   "execution_count": null,
   "metadata": {},
   "outputs": [],
   "source": []
  },
  {
   "cell_type": "code",
   "execution_count": null,
   "metadata": {},
   "outputs": [],
   "source": []
  },
  {
   "cell_type": "code",
   "execution_count": null,
   "metadata": {},
   "outputs": [],
   "source": []
  },
  {
   "cell_type": "code",
   "execution_count": null,
   "metadata": {},
   "outputs": [],
   "source": []
  },
  {
   "cell_type": "code",
   "execution_count": null,
   "metadata": {},
   "outputs": [],
   "source": []
  },
  {
   "cell_type": "code",
   "execution_count": 25,
   "metadata": {},
   "outputs": [],
   "source": []
  },
  {
   "cell_type": "code",
   "execution_count": null,
   "metadata": {},
   "outputs": [],
   "source": []
  },
  {
   "cell_type": "code",
   "execution_count": 14,
   "metadata": {
    "ExecuteTime": {
     "end_time": "2021-04-12T00:51:30.404661Z",
     "start_time": "2021-04-12T00:51:30.378268Z"
    },
    "scrolled": false
   },
   "outputs": [
    {
     "data": {
      "text/html": [
       "<div>\n",
       "<style scoped>\n",
       "    .dataframe tbody tr th:only-of-type {\n",
       "        vertical-align: middle;\n",
       "    }\n",
       "\n",
       "    .dataframe tbody tr th {\n",
       "        vertical-align: top;\n",
       "    }\n",
       "\n",
       "    .dataframe thead th {\n",
       "        text-align: right;\n",
       "    }\n",
       "</style>\n",
       "<table border=\"1\" class=\"dataframe\">\n",
       "  <thead>\n",
       "    <tr style=\"text-align: right;\">\n",
       "      <th></th>\n",
       "      <th>Person</th>\n",
       "      <th>Device</th>\n",
       "      <th>Charge Amount</th>\n",
       "      <th>Charge Description</th>\n",
       "      <th>Charge Type</th>\n",
       "      <th>Billing Period Start</th>\n",
       "      <th>Billing Period End</th>\n",
       "    </tr>\n",
       "  </thead>\n",
       "  <tbody>\n",
       "    <tr>\n",
       "      <th>0</th>\n",
       "      <td>Katie Williams</td>\n",
       "      <td>IPHONE 11 PRO</td>\n",
       "      <td>40.00</td>\n",
       "      <td>Activation fee</td>\n",
       "      <td>One-time charges and credits</td>\n",
       "      <td>Nov 29, 2020</td>\n",
       "      <td>Dec 28, 2020</td>\n",
       "    </tr>\n",
       "    <tr>\n",
       "      <th>1</th>\n",
       "      <td>Katie Williams</td>\n",
       "      <td>IPHONE 11 PRO</td>\n",
       "      <td>5.00</td>\n",
       "      <td>Start unlimited - partial-month</td>\n",
       "      <td>One-time charges and credits</td>\n",
       "      <td>Nov 29, 2020</td>\n",
       "      <td>Dec 28, 2020</td>\n",
       "    </tr>\n",
       "    <tr>\n",
       "      <th>2</th>\n",
       "      <td>Katie Williams</td>\n",
       "      <td>IPHONE 11 PRO</td>\n",
       "      <td>3.42</td>\n",
       "      <td>Fed Universal Service Charge</td>\n",
       "      <td>Surcharges</td>\n",
       "      <td>Nov 29, 2020</td>\n",
       "      <td>Dec 28, 2020</td>\n",
       "    </tr>\n",
       "    <tr>\n",
       "      <th>3</th>\n",
       "      <td>Katie Williams</td>\n",
       "      <td>IPHONE 11 PRO</td>\n",
       "      <td>2.74</td>\n",
       "      <td>KS Universal Service Fund</td>\n",
       "      <td>Surcharges</td>\n",
       "      <td>Nov 29, 2020</td>\n",
       "      <td>Dec 28, 2020</td>\n",
       "    </tr>\n",
       "    <tr>\n",
       "      <th>4</th>\n",
       "      <td>Katie Williams</td>\n",
       "      <td>IPHONE 11 PRO</td>\n",
       "      <td>3.03</td>\n",
       "      <td>KS State Sls Tax-Telco</td>\n",
       "      <td>Taxes and gov fees</td>\n",
       "      <td>Nov 29, 2020</td>\n",
       "      <td>Dec 28, 2020</td>\n",
       "    </tr>\n",
       "    <tr>\n",
       "      <th>...</th>\n",
       "      <td>...</td>\n",
       "      <td>...</td>\n",
       "      <td>...</td>\n",
       "      <td>...</td>\n",
       "      <td>...</td>\n",
       "      <td>...</td>\n",
       "      <td>...</td>\n",
       "    </tr>\n",
       "    <tr>\n",
       "      <th>84</th>\n",
       "      <td>Temporary Phone</td>\n",
       "      <td>IPHONE 11 PRO</td>\n",
       "      <td>1.80</td>\n",
       "      <td>KS E-911 Fee</td>\n",
       "      <td>Taxes and gov fees</td>\n",
       "      <td>Nov 29, 2020</td>\n",
       "      <td>Dec 28, 2020</td>\n",
       "    </tr>\n",
       "    <tr>\n",
       "      <th>85</th>\n",
       "      <td>Temporary Phone</td>\n",
       "      <td>IPHONE 11 PRO</td>\n",
       "      <td>0.52</td>\n",
       "      <td>KS State Sls Tax-Telco</td>\n",
       "      <td>Taxes and gov fees</td>\n",
       "      <td>Nov 29, 2020</td>\n",
       "      <td>Dec 28, 2020</td>\n",
       "    </tr>\n",
       "    <tr>\n",
       "      <th>86</th>\n",
       "      <td>Temporary Phone</td>\n",
       "      <td>IPHONE 11 PRO</td>\n",
       "      <td>0.08</td>\n",
       "      <td>Sedgwick Cnty Sls Tax-Telco</td>\n",
       "      <td>Taxes and gov fees</td>\n",
       "      <td>Nov 29, 2020</td>\n",
       "      <td>Dec 28, 2020</td>\n",
       "    </tr>\n",
       "    <tr>\n",
       "      <th>87</th>\n",
       "      <td>General Account</td>\n",
       "      <td>NaN</td>\n",
       "      <td>0.84</td>\n",
       "      <td>State Tax</td>\n",
       "      <td>Taxes and gov fees</td>\n",
       "      <td>Nov 29, 2020</td>\n",
       "      <td>Dec 28, 2020</td>\n",
       "    </tr>\n",
       "    <tr>\n",
       "      <th>88</th>\n",
       "      <td>General Account</td>\n",
       "      <td>NaN</td>\n",
       "      <td>0.13</td>\n",
       "      <td>Local Tax</td>\n",
       "      <td>Taxes and gov fees</td>\n",
       "      <td>Nov 29, 2020</td>\n",
       "      <td>Dec 28, 2020</td>\n",
       "    </tr>\n",
       "  </tbody>\n",
       "</table>\n",
       "<p>89 rows × 7 columns</p>\n",
       "</div>"
      ],
      "text/plain": [
       "             Person         Device  Charge Amount  \\\n",
       "0    Katie Williams  IPHONE 11 PRO          40.00   \n",
       "1    Katie Williams  IPHONE 11 PRO           5.00   \n",
       "2    Katie Williams  IPHONE 11 PRO           3.42   \n",
       "3    Katie Williams  IPHONE 11 PRO           2.74   \n",
       "4    Katie Williams  IPHONE 11 PRO           3.03   \n",
       "..              ...            ...            ...   \n",
       "84  Temporary Phone  IPHONE 11 PRO           1.80   \n",
       "85  Temporary Phone  IPHONE 11 PRO           0.52   \n",
       "86  Temporary Phone  IPHONE 11 PRO           0.08   \n",
       "87  General Account            NaN           0.84   \n",
       "88  General Account            NaN           0.13   \n",
       "\n",
       "                 Charge Description                   Charge Type  \\\n",
       "0                    Activation fee  One-time charges and credits   \n",
       "1   Start unlimited - partial-month  One-time charges and credits   \n",
       "2      Fed Universal Service Charge                    Surcharges   \n",
       "3         KS Universal Service Fund                    Surcharges   \n",
       "4            KS State Sls Tax-Telco            Taxes and gov fees   \n",
       "..                              ...                           ...   \n",
       "84                     KS E-911 Fee            Taxes and gov fees   \n",
       "85           KS State Sls Tax-Telco            Taxes and gov fees   \n",
       "86      Sedgwick Cnty Sls Tax-Telco            Taxes and gov fees   \n",
       "87                        State Tax            Taxes and gov fees   \n",
       "88                        Local Tax            Taxes and gov fees   \n",
       "\n",
       "   Billing Period Start Billing Period End  \n",
       "0          Nov 29, 2020       Dec 28, 2020  \n",
       "1          Nov 29, 2020       Dec 28, 2020  \n",
       "2          Nov 29, 2020       Dec 28, 2020  \n",
       "3          Nov 29, 2020       Dec 28, 2020  \n",
       "4          Nov 29, 2020       Dec 28, 2020  \n",
       "..                  ...                ...  \n",
       "84         Nov 29, 2020       Dec 28, 2020  \n",
       "85         Nov 29, 2020       Dec 28, 2020  \n",
       "86         Nov 29, 2020       Dec 28, 2020  \n",
       "87         Nov 29, 2020       Dec 28, 2020  \n",
       "88         Nov 29, 2020       Dec 28, 2020  \n",
       "\n",
       "[89 rows x 7 columns]"
      ]
     },
     "execution_count": 14,
     "metadata": {},
     "output_type": "execute_result"
    }
   ],
   "source": [
    "df"
   ]
  },
  {
   "cell_type": "code",
   "execution_count": 15,
   "metadata": {
    "ExecuteTime": {
     "end_time": "2021-04-12T00:51:32.329758Z",
     "start_time": "2021-04-12T00:51:32.317542Z"
    }
   },
   "outputs": [
    {
     "ename": "TypeError",
     "evalue": "sort_values() got an unexpected keyword argument 'by'",
     "output_type": "error",
     "traceback": [
      "\u001b[0;31m---------------------------------------------------------------------------\u001b[0m",
      "\u001b[0;31mTypeError\u001b[0m                                 Traceback (most recent call last)",
      "\u001b[0;32m<ipython-input-15-611abc16ff87>\u001b[0m in \u001b[0;36m<module>\u001b[0;34m\u001b[0m\n\u001b[1;32m      2\u001b[0m \u001b[0;34m\u001b[0m\u001b[0m\n\u001b[1;32m      3\u001b[0m charges_per_user = (\n\u001b[0;32m----> 4\u001b[0;31m     \u001b[0mcharge_by_user\u001b[0m\u001b[0;34m.\u001b[0m\u001b[0mgroupby\u001b[0m\u001b[0;34m(\u001b[0m\u001b[0;34m[\u001b[0m\u001b[0;34m\"Person\"\u001b[0m\u001b[0;34m,\u001b[0m \u001b[0;34m\"Charge Type\"\u001b[0m\u001b[0;34m]\u001b[0m\u001b[0;34m)\u001b[0m\u001b[0;34m[\u001b[0m\u001b[0;34m\"Charge Amount\"\u001b[0m\u001b[0;34m]\u001b[0m\u001b[0;34m\u001b[0m\u001b[0;34m\u001b[0m\u001b[0m\n\u001b[0m\u001b[1;32m      5\u001b[0m     \u001b[0;34m.\u001b[0m\u001b[0msum\u001b[0m\u001b[0;34m(\u001b[0m\u001b[0;34m)\u001b[0m\u001b[0;34m\u001b[0m\u001b[0;34m\u001b[0m\u001b[0m\n\u001b[1;32m      6\u001b[0m     \u001b[0;34m.\u001b[0m\u001b[0msort_values\u001b[0m\u001b[0;34m(\u001b[0m\u001b[0mby\u001b[0m\u001b[0;34m=\u001b[0m\u001b[0;34m\"Charge Amount\"\u001b[0m\u001b[0;34m)\u001b[0m\u001b[0;34m\u001b[0m\u001b[0;34m\u001b[0m\u001b[0m\n",
      "\u001b[0;31mTypeError\u001b[0m: sort_values() got an unexpected keyword argument 'by'"
     ]
    }
   ],
   "source": [
    "charge_by_user = df[df[\"Person\"] != \"General Account\"]\n",
    "\n",
    "charges_per_user = (\n",
    "    charge_by_user.groupby([\"Person\", \"Charge Type\"])[\"Charge Amount\"]\n",
    "    .sum()\n",
    "    .sort_values(by=\"Charge Amount\")\n",
    "    .reset_index()\n",
    ")"
   ]
  },
  {
   "cell_type": "code",
   "execution_count": 16,
   "metadata": {
    "ExecuteTime": {
     "end_time": "2021-04-12T00:51:37.497523Z",
     "start_time": "2021-04-12T00:51:37.488258Z"
    }
   },
   "outputs": [
    {
     "data": {
      "text/plain": [
       "Person           Charge Type                 \n",
       "Debra Eckhardt   Monthly charges and credits     66.85\n",
       "                 One-time charges and credits    55.00\n",
       "                 Surcharges                      11.22\n",
       "                 Taxes and gov fees               5.89\n",
       "Jenny Dean       Monthly charges and credits     29.99\n",
       "                 One-time charges and credits    55.00\n",
       "                 Surcharges                      11.22\n",
       "                 Taxes and gov fees               5.89\n",
       "Joseph Rosas     Add-ons                          0.00\n",
       "                 Monthly charges and credits     70.00\n",
       "                 One-time charges and credits   -20.00\n",
       "                 Surcharges                       5.07\n",
       "                 Taxes and gov fees               2.35\n",
       "Katie Williams   One-time charges and credits    45.00\n",
       "                 Surcharges                       6.16\n",
       "                 Taxes and gov fees               3.50\n",
       "Lindsay Rosas    Monthly charges and credits     29.99\n",
       "                 One-time charges and credits    55.00\n",
       "                 Surcharges                      11.22\n",
       "                 Taxes and gov fees               5.89\n",
       "Tanner Dean      Monthly charges and credits     30.00\n",
       "                 One-time charges and credits    45.00\n",
       "                 Surcharges                      11.13\n",
       "                 Taxes and gov fees               5.83\n",
       "Temporary Phone  Monthly charges and credits     66.85\n",
       "                 One-time charges and credits    10.00\n",
       "                 Surcharges                       5.06\n",
       "                 Taxes and gov fees               2.40\n",
       "Name: Charge Amount, dtype: float64"
      ]
     },
     "execution_count": 16,
     "metadata": {},
     "output_type": "execute_result"
    }
   ],
   "source": [
    "charge_by_user.groupby([\"Person\", \"Charge Type\"])[\"Charge Amount\"].sum()"
   ]
  },
  {
   "cell_type": "code",
   "execution_count": null,
   "metadata": {},
   "outputs": [],
   "source": [
    "#!/usr/bin/python\n",
    "# -*- coding: utf-8 -*-\n",
    "import numpy as np\n",
    "import pandas as pd\n",
    "import streamlit as st\n",
    "import plotly.offline as py\n",
    "import plotly.express as px\n",
    "import plotly.graph_objects as go\n",
    "from plotly import tools\n",
    "\n",
    "st.set_page_config(\n",
    "        page_title=\"Verizon Bill\",\n",
    "        page_icon=\"📱\",\n",
    "        layout=\"centered\",\n",
    "        initial_sidebar_state=\"expanded\"\n",
    "    )\n",
    "\n",
    "st.markdown(\"<h1 style='text-align: center;'>Eckhardt Verizon</h1>\"\n",
    "            , unsafe_allow_html=True)\n",
    "st.markdown(\"<h3 style='text-align: center;'>Breakdown of the Verizon billing.</h3>\"\n",
    "            , unsafe_allow_html=True)\n",
    "\n",
    "@st.cache\n",
    "def get_data():\n",
    "    \"\"\"Clean Incoming Data\"\"\"\n",
    "    # Import\n",
    "    df = pd.read_csv('VERIZON_BILL_CSV.csv')\n",
    "    # Remove special characters \n",
    "    df['Charge Amount'] = df['Charge Amount'].str.replace('\\t', '')\n",
    "    df['Charge Amount'] = df['Charge Amount'].str.replace('$', '')\n",
    "    df['Charge Amount'] = df['Charge Amount'].str.replace('(', '-')\n",
    "    df['Charge Amount'] = df['Charge Amount'].str.replace(')', '')\n",
    "    # Change data type\n",
    "    df['Charge Amount'] = pd.to_numeric(df['Charge Amount'])\n",
    "    # Round charte amounts to two decimals\n",
    "    df['Charge Amount'] = round(df['Charge Amount'], 2)\n",
    "    return df\n",
    "\n",
    "df = get_data()\n",
    "\n",
    "def main():\n",
    "\n",
    "    charge_by_user = df[df[\"Person\"] != \"General Account\"]\n",
    "\n",
    "    charges_per_user = (\n",
    "        charge_by_user.groupby(\"Person\")[\"Charge Amount\"]\n",
    "        .sum()\n",
    "        .sort_values()\n",
    "        .reset_index(name=\"Charge\")\n",
    "    )\n",
    "    \n",
    "    st.markdown('---')\n",
    "     \n",
    "    col_list = ['Person', 'Device', \n",
    "                'Charge Amount', \n",
    "                'Charge Description']\n",
    "\n",
    "    fig = go.Figure(data=[go.Table(\n",
    "        header=dict(values=list(col_list),\n",
    "                    fill_color='dark gray',\n",
    "                    align='left'),\n",
    "        cells=dict(values=[df.Person, df.Device, df['Charge Amount'], df['Charge Description']],\n",
    "                   fill_color='light gray',\n",
    "                   align='left'))\n",
    "    ])\n",
    "\n",
    "    st.plotly_chart(fig)\n",
    "\n",
    "    st.markdown('---')\n",
    "    \n",
    "    st.markdown('<i class=\"material-icons\">by Joseph Rosas</i>', unsafe_allow_html=True)\n",
    "    \n",
    "main()\n",
    "\n"
   ]
  },
  {
   "cell_type": "code",
   "execution_count": 19,
   "metadata": {},
   "outputs": [
    {
     "data": {
      "text/html": [
       "<div>\n",
       "<style scoped>\n",
       "    .dataframe tbody tr th:only-of-type {\n",
       "        vertical-align: middle;\n",
       "    }\n",
       "\n",
       "    .dataframe tbody tr th {\n",
       "        vertical-align: top;\n",
       "    }\n",
       "\n",
       "    .dataframe thead th {\n",
       "        text-align: right;\n",
       "    }\n",
       "</style>\n",
       "<table border=\"1\" class=\"dataframe\">\n",
       "  <thead>\n",
       "    <tr style=\"text-align: right;\">\n",
       "      <th></th>\n",
       "      <th>Person</th>\n",
       "      <th>Device</th>\n",
       "      <th>Charge Amount</th>\n",
       "      <th>Charge Description</th>\n",
       "      <th>Charge Type</th>\n",
       "      <th>Billing Period Start</th>\n",
       "      <th>Billing Period End</th>\n",
       "    </tr>\n",
       "  </thead>\n",
       "  <tbody>\n",
       "    <tr>\n",
       "      <th>0</th>\n",
       "      <td>Katie Williams</td>\n",
       "      <td>IPHONE 11 PRO</td>\n",
       "      <td>40.00</td>\n",
       "      <td>Activation fee</td>\n",
       "      <td>One-time charges and credits</td>\n",
       "      <td>Nov 29, 2020</td>\n",
       "      <td>Dec 28, 2020</td>\n",
       "    </tr>\n",
       "    <tr>\n",
       "      <th>1</th>\n",
       "      <td>Katie Williams</td>\n",
       "      <td>IPHONE 11 PRO</td>\n",
       "      <td>5.00</td>\n",
       "      <td>Start unlimited - partial-month</td>\n",
       "      <td>One-time charges and credits</td>\n",
       "      <td>Nov 29, 2020</td>\n",
       "      <td>Dec 28, 2020</td>\n",
       "    </tr>\n",
       "    <tr>\n",
       "      <th>2</th>\n",
       "      <td>Katie Williams</td>\n",
       "      <td>IPHONE 11 PRO</td>\n",
       "      <td>3.42</td>\n",
       "      <td>Fed Universal Service Charge</td>\n",
       "      <td>Surcharges</td>\n",
       "      <td>Nov 29, 2020</td>\n",
       "      <td>Dec 28, 2020</td>\n",
       "    </tr>\n",
       "    <tr>\n",
       "      <th>3</th>\n",
       "      <td>Katie Williams</td>\n",
       "      <td>IPHONE 11 PRO</td>\n",
       "      <td>2.74</td>\n",
       "      <td>KS Universal Service Fund</td>\n",
       "      <td>Surcharges</td>\n",
       "      <td>Nov 29, 2020</td>\n",
       "      <td>Dec 28, 2020</td>\n",
       "    </tr>\n",
       "    <tr>\n",
       "      <th>4</th>\n",
       "      <td>Katie Williams</td>\n",
       "      <td>IPHONE 11 PRO</td>\n",
       "      <td>3.03</td>\n",
       "      <td>KS State Sls Tax-Telco</td>\n",
       "      <td>Taxes and gov fees</td>\n",
       "      <td>Nov 29, 2020</td>\n",
       "      <td>Dec 28, 2020</td>\n",
       "    </tr>\n",
       "    <tr>\n",
       "      <th>...</th>\n",
       "      <td>...</td>\n",
       "      <td>...</td>\n",
       "      <td>...</td>\n",
       "      <td>...</td>\n",
       "      <td>...</td>\n",
       "      <td>...</td>\n",
       "      <td>...</td>\n",
       "    </tr>\n",
       "    <tr>\n",
       "      <th>84</th>\n",
       "      <td>Temporary Phone</td>\n",
       "      <td>IPHONE 11 PRO</td>\n",
       "      <td>1.80</td>\n",
       "      <td>KS E-911 Fee</td>\n",
       "      <td>Taxes and gov fees</td>\n",
       "      <td>Nov 29, 2020</td>\n",
       "      <td>Dec 28, 2020</td>\n",
       "    </tr>\n",
       "    <tr>\n",
       "      <th>85</th>\n",
       "      <td>Temporary Phone</td>\n",
       "      <td>IPHONE 11 PRO</td>\n",
       "      <td>0.52</td>\n",
       "      <td>KS State Sls Tax-Telco</td>\n",
       "      <td>Taxes and gov fees</td>\n",
       "      <td>Nov 29, 2020</td>\n",
       "      <td>Dec 28, 2020</td>\n",
       "    </tr>\n",
       "    <tr>\n",
       "      <th>86</th>\n",
       "      <td>Temporary Phone</td>\n",
       "      <td>IPHONE 11 PRO</td>\n",
       "      <td>0.08</td>\n",
       "      <td>Sedgwick Cnty Sls Tax-Telco</td>\n",
       "      <td>Taxes and gov fees</td>\n",
       "      <td>Nov 29, 2020</td>\n",
       "      <td>Dec 28, 2020</td>\n",
       "    </tr>\n",
       "    <tr>\n",
       "      <th>87</th>\n",
       "      <td>General Account</td>\n",
       "      <td>NaN</td>\n",
       "      <td>0.84</td>\n",
       "      <td>State Tax</td>\n",
       "      <td>Taxes and gov fees</td>\n",
       "      <td>Nov 29, 2020</td>\n",
       "      <td>Dec 28, 2020</td>\n",
       "    </tr>\n",
       "    <tr>\n",
       "      <th>88</th>\n",
       "      <td>General Account</td>\n",
       "      <td>NaN</td>\n",
       "      <td>0.13</td>\n",
       "      <td>Local Tax</td>\n",
       "      <td>Taxes and gov fees</td>\n",
       "      <td>Nov 29, 2020</td>\n",
       "      <td>Dec 28, 2020</td>\n",
       "    </tr>\n",
       "  </tbody>\n",
       "</table>\n",
       "<p>89 rows × 7 columns</p>\n",
       "</div>"
      ],
      "text/plain": [
       "             Person         Device  Charge Amount  \\\n",
       "0    Katie Williams  IPHONE 11 PRO          40.00   \n",
       "1    Katie Williams  IPHONE 11 PRO           5.00   \n",
       "2    Katie Williams  IPHONE 11 PRO           3.42   \n",
       "3    Katie Williams  IPHONE 11 PRO           2.74   \n",
       "4    Katie Williams  IPHONE 11 PRO           3.03   \n",
       "..              ...            ...            ...   \n",
       "84  Temporary Phone  IPHONE 11 PRO           1.80   \n",
       "85  Temporary Phone  IPHONE 11 PRO           0.52   \n",
       "86  Temporary Phone  IPHONE 11 PRO           0.08   \n",
       "87  General Account            NaN           0.84   \n",
       "88  General Account            NaN           0.13   \n",
       "\n",
       "                 Charge Description                   Charge Type  \\\n",
       "0                    Activation fee  One-time charges and credits   \n",
       "1   Start unlimited - partial-month  One-time charges and credits   \n",
       "2      Fed Universal Service Charge                    Surcharges   \n",
       "3         KS Universal Service Fund                    Surcharges   \n",
       "4            KS State Sls Tax-Telco            Taxes and gov fees   \n",
       "..                              ...                           ...   \n",
       "84                     KS E-911 Fee            Taxes and gov fees   \n",
       "85           KS State Sls Tax-Telco            Taxes and gov fees   \n",
       "86      Sedgwick Cnty Sls Tax-Telco            Taxes and gov fees   \n",
       "87                        State Tax            Taxes and gov fees   \n",
       "88                        Local Tax            Taxes and gov fees   \n",
       "\n",
       "   Billing Period Start Billing Period End  \n",
       "0          Nov 29, 2020       Dec 28, 2020  \n",
       "1          Nov 29, 2020       Dec 28, 2020  \n",
       "2          Nov 29, 2020       Dec 28, 2020  \n",
       "3          Nov 29, 2020       Dec 28, 2020  \n",
       "4          Nov 29, 2020       Dec 28, 2020  \n",
       "..                  ...                ...  \n",
       "84         Nov 29, 2020       Dec 28, 2020  \n",
       "85         Nov 29, 2020       Dec 28, 2020  \n",
       "86         Nov 29, 2020       Dec 28, 2020  \n",
       "87         Nov 29, 2020       Dec 28, 2020  \n",
       "88         Nov 29, 2020       Dec 28, 2020  \n",
       "\n",
       "[89 rows x 7 columns]"
      ]
     },
     "execution_count": 19,
     "metadata": {},
     "output_type": "execute_result"
    }
   ],
   "source": [
    "df"
   ]
  },
  {
   "cell_type": "code",
   "execution_count": null,
   "metadata": {},
   "outputs": [],
   "source": []
  },
  {
   "cell_type": "code",
   "execution_count": null,
   "metadata": {},
   "outputs": [],
   "source": []
  },
  {
   "cell_type": "code",
   "execution_count": null,
   "metadata": {},
   "outputs": [],
   "source": [
    "    col_list = ['Person', 'Device', \n",
    "                'Charge Amount', \n",
    "                'Charge Description']\n",
    "\n",
    "    fig = go.Figure(data=[go.Table(\n",
    "        header=dict(values=list(col_list),\n",
    "                    fill_color='dark gray',\n",
    "                    align='left'),\n",
    "        cells=dict(values=[df.Person, df.Device, df['Charge Amount'], df['Charge Description']],\n",
    "                   fill_color='light gray',\n",
    "                   align='left'))\n",
    "    ])\n",
    "\n",
    "    fig.show()"
   ]
  },
  {
   "cell_type": "code",
   "execution_count": null,
   "metadata": {},
   "outputs": [],
   "source": []
  },
  {
   "cell_type": "code",
   "execution_count": null,
   "metadata": {},
   "outputs": [],
   "source": []
  },
  {
   "cell_type": "code",
   "execution_count": null,
   "metadata": {},
   "outputs": [],
   "source": []
  },
  {
   "cell_type": "code",
   "execution_count": null,
   "metadata": {},
   "outputs": [],
   "source": []
  }
 ],
 "metadata": {
  "kernelspec": {
   "display_name": "Python 3",
   "language": "python",
   "name": "python3"
  },
  "language_info": {
   "codemirror_mode": {
    "name": "ipython",
    "version": 3
   },
   "file_extension": ".py",
   "mimetype": "text/x-python",
   "name": "python",
   "nbconvert_exporter": "python",
   "pygments_lexer": "ipython3",
   "version": "3.8.8"
  }
 },
 "nbformat": 4,
 "nbformat_minor": 4
}
